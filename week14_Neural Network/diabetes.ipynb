{
 "cells": [
  {
   "cell_type": "markdown",
   "metadata": {},
   "source": [
    "# NN Classification"
   ]
  },
  {
   "cell_type": "code",
   "execution_count": null,
   "metadata": {},
   "outputs": [],
   "source": [
    "pip install tensorflow"
   ]
  },
  {
   "cell_type": "code",
   "execution_count": null,
   "metadata": {},
   "outputs": [],
   "source": [
    "pip install keras"
   ]
  },
  {
   "cell_type": "code",
   "execution_count": null,
   "metadata": {},
   "outputs": [],
   "source": [
    "# diabetes dataset"
   ]
  },
  {
   "cell_type": "code",
   "execution_count": 1,
   "metadata": {},
   "outputs": [],
   "source": [
    "import numpy as np\n",
    "import pandas as pd"
   ]
  },
  {
   "cell_type": "code",
   "execution_count": 2,
   "metadata": {},
   "outputs": [
    {
     "name": "stderr",
     "output_type": "stream",
     "text": [
      "Using TensorFlow backend.\n"
     ]
    }
   ],
   "source": [
    "from keras.models import Sequential\n",
    "from keras.layers import Dense"
   ]
  },
  {
   "cell_type": "code",
   "execution_count": 3,
   "metadata": {},
   "outputs": [
    {
     "data": {
      "text/plain": [
       "(768, 9)"
      ]
     },
     "execution_count": 3,
     "metadata": {},
     "output_type": "execute_result"
    }
   ],
   "source": [
    "df0 = pd.read_csv('diabetes.csv')\n",
    "df0.shape"
   ]
  },
  {
   "cell_type": "code",
   "execution_count": 4,
   "metadata": {},
   "outputs": [
    {
     "data": {
      "text/html": [
       "<div>\n",
       "<style scoped>\n",
       "    .dataframe tbody tr th:only-of-type {\n",
       "        vertical-align: middle;\n",
       "    }\n",
       "\n",
       "    .dataframe tbody tr th {\n",
       "        vertical-align: top;\n",
       "    }\n",
       "\n",
       "    .dataframe thead th {\n",
       "        text-align: right;\n",
       "    }\n",
       "</style>\n",
       "<table border=\"1\" class=\"dataframe\">\n",
       "  <thead>\n",
       "    <tr style=\"text-align: right;\">\n",
       "      <th></th>\n",
       "      <th>Pregnancies</th>\n",
       "      <th>Glucose</th>\n",
       "      <th>BloodPressure</th>\n",
       "      <th>SkinThickness</th>\n",
       "      <th>Insulin</th>\n",
       "      <th>BMI</th>\n",
       "      <th>PedigreeFunc</th>\n",
       "      <th>Age</th>\n",
       "      <th>Outcome</th>\n",
       "    </tr>\n",
       "  </thead>\n",
       "  <tbody>\n",
       "    <tr>\n",
       "      <th>0</th>\n",
       "      <td>6</td>\n",
       "      <td>148</td>\n",
       "      <td>72</td>\n",
       "      <td>35</td>\n",
       "      <td>0</td>\n",
       "      <td>33.6</td>\n",
       "      <td>0.627</td>\n",
       "      <td>50</td>\n",
       "      <td>1</td>\n",
       "    </tr>\n",
       "    <tr>\n",
       "      <th>1</th>\n",
       "      <td>1</td>\n",
       "      <td>85</td>\n",
       "      <td>66</td>\n",
       "      <td>29</td>\n",
       "      <td>0</td>\n",
       "      <td>26.6</td>\n",
       "      <td>0.351</td>\n",
       "      <td>31</td>\n",
       "      <td>0</td>\n",
       "    </tr>\n",
       "    <tr>\n",
       "      <th>2</th>\n",
       "      <td>8</td>\n",
       "      <td>183</td>\n",
       "      <td>64</td>\n",
       "      <td>0</td>\n",
       "      <td>0</td>\n",
       "      <td>23.3</td>\n",
       "      <td>0.672</td>\n",
       "      <td>32</td>\n",
       "      <td>1</td>\n",
       "    </tr>\n",
       "    <tr>\n",
       "      <th>3</th>\n",
       "      <td>1</td>\n",
       "      <td>89</td>\n",
       "      <td>66</td>\n",
       "      <td>23</td>\n",
       "      <td>94</td>\n",
       "      <td>28.1</td>\n",
       "      <td>0.167</td>\n",
       "      <td>21</td>\n",
       "      <td>0</td>\n",
       "    </tr>\n",
       "    <tr>\n",
       "      <th>4</th>\n",
       "      <td>0</td>\n",
       "      <td>137</td>\n",
       "      <td>40</td>\n",
       "      <td>35</td>\n",
       "      <td>168</td>\n",
       "      <td>43.1</td>\n",
       "      <td>2.288</td>\n",
       "      <td>33</td>\n",
       "      <td>1</td>\n",
       "    </tr>\n",
       "  </tbody>\n",
       "</table>\n",
       "</div>"
      ],
      "text/plain": [
       "   Pregnancies  Glucose  BloodPressure  SkinThickness  Insulin   BMI  \\\n",
       "0            6      148             72             35        0  33.6   \n",
       "1            1       85             66             29        0  26.6   \n",
       "2            8      183             64              0        0  23.3   \n",
       "3            1       89             66             23       94  28.1   \n",
       "4            0      137             40             35      168  43.1   \n",
       "\n",
       "   PedigreeFunc  Age  Outcome  \n",
       "0         0.627   50        1  \n",
       "1         0.351   31        0  \n",
       "2         0.672   32        1  \n",
       "3         0.167   21        0  \n",
       "4         2.288   33        1  "
      ]
     },
     "execution_count": 4,
     "metadata": {},
     "output_type": "execute_result"
    }
   ],
   "source": [
    "df0[:5]"
   ]
  },
  {
   "cell_type": "code",
   "execution_count": 5,
   "metadata": {},
   "outputs": [],
   "source": [
    "df = df0.values"
   ]
  },
  {
   "cell_type": "code",
   "execution_count": 6,
   "metadata": {},
   "outputs": [],
   "source": [
    "X = df[:,0:8]\n",
    "y = df[:,8]"
   ]
  },
  {
   "cell_type": "markdown",
   "metadata": {},
   "source": [
    "## Build the ANN"
   ]
  },
  {
   "cell_type": "code",
   "execution_count": 7,
   "metadata": {},
   "outputs": [],
   "source": [
    "# Input layer with 8 nodes, hidden layer with 8 nodes, output layer with one node"
   ]
  },
  {
   "cell_type": "code",
   "execution_count": 8,
   "metadata": {},
   "outputs": [],
   "source": [
    "# for classification problems use output activation sigmoid function"
   ]
  },
  {
   "cell_type": "code",
   "execution_count": 9,
   "metadata": {},
   "outputs": [],
   "source": [
    "# initialize the weights randomly with uniform (0,1)"
   ]
  },
  {
   "cell_type": "code",
   "execution_count": 10,
   "metadata": {},
   "outputs": [
    {
     "name": "stderr",
     "output_type": "stream",
     "text": [
      "WARNING: Logging before flag parsing goes to stderr.\n",
      "W1206 17:09:52.719847 20828 deprecation_wrapper.py:119] From C:\\ProgramData\\Anaconda3\\lib\\site-packages\\keras\\backend\\tensorflow_backend.py:74: The name tf.get_default_graph is deprecated. Please use tf.compat.v1.get_default_graph instead.\n",
      "\n",
      "W1206 17:09:52.743784 20828 deprecation_wrapper.py:119] From C:\\ProgramData\\Anaconda3\\lib\\site-packages\\keras\\optimizers.py:790: The name tf.train.Optimizer is deprecated. Please use tf.compat.v1.train.Optimizer instead.\n",
      "\n"
     ]
    }
   ],
   "source": [
    "model = Sequential()\n",
    "model.add(Dense(8,kernel_initializer = 'uniform', activation = 'relu'))\n",
    "model.add(Dense(8,kernel_initializer = 'uniform', activation = 'relu'))\n",
    "model.add(Dense(1,kernel_initializer = 'uniform', activation = 'sigmoid'))\n",
    "model.compile(loss='binary_crossentropy',optimizer='adam',metrics=['accuracy'])"
   ]
  },
  {
   "cell_type": "code",
   "execution_count": 11,
   "metadata": {},
   "outputs": [],
   "source": [
    "# train the model"
   ]
  },
  {
   "cell_type": "code",
   "execution_count": 13,
   "metadata": {},
   "outputs": [
    {
     "name": "stderr",
     "output_type": "stream",
     "text": [
      "W1206 17:11:15.538389 20828 deprecation_wrapper.py:119] From C:\\ProgramData\\Anaconda3\\lib\\site-packages\\keras\\backend\\tensorflow_backend.py:517: The name tf.placeholder is deprecated. Please use tf.compat.v1.placeholder instead.\n",
      "\n",
      "W1206 17:11:15.541349 20828 deprecation_wrapper.py:119] From C:\\ProgramData\\Anaconda3\\lib\\site-packages\\keras\\backend\\tensorflow_backend.py:4138: The name tf.random_uniform is deprecated. Please use tf.random.uniform instead.\n",
      "\n",
      "W1206 17:11:15.595206 20828 deprecation_wrapper.py:119] From C:\\ProgramData\\Anaconda3\\lib\\site-packages\\keras\\backend\\tensorflow_backend.py:3376: The name tf.log is deprecated. Please use tf.math.log instead.\n",
      "\n",
      "W1206 17:11:15.602189 20828 deprecation.py:323] From C:\\ProgramData\\Anaconda3\\lib\\site-packages\\tensorflow\\python\\ops\\nn_impl.py:180: add_dispatch_support.<locals>.wrapper (from tensorflow.python.ops.array_ops) is deprecated and will be removed in a future version.\n",
      "Instructions for updating:\n",
      "Use tf.where in 2.0, which has the same broadcast rule as np.where\n",
      "W1206 17:11:15.745197 20828 deprecation_wrapper.py:119] From C:\\ProgramData\\Anaconda3\\lib\\site-packages\\keras\\backend\\tensorflow_backend.py:986: The name tf.assign_add is deprecated. Please use tf.compat.v1.assign_add instead.\n",
      "\n"
     ]
    },
    {
     "name": "stdout",
     "output_type": "stream",
     "text": [
      "Epoch 1/10\n",
      " - 0s - loss: 0.6807 - acc: 0.6510\n",
      "Epoch 2/10\n",
      " - 0s - loss: 0.6647 - acc: 0.6510\n",
      "Epoch 3/10\n",
      " - 0s - loss: 0.6522 - acc: 0.6510\n",
      "Epoch 4/10\n",
      " - 0s - loss: 0.6424 - acc: 0.6510\n",
      "Epoch 5/10\n",
      " - 0s - loss: 0.6315 - acc: 0.6510\n",
      "Epoch 6/10\n",
      " - 0s - loss: 0.6259 - acc: 0.6510\n",
      "Epoch 7/10\n",
      " - 0s - loss: 0.6153 - acc: 0.6536\n",
      "Epoch 8/10\n",
      " - 0s - loss: 0.6048 - acc: 0.6784\n",
      "Epoch 9/10\n",
      " - 0s - loss: 0.6021 - acc: 0.6823\n",
      "Epoch 10/10\n",
      " - 0s - loss: 0.5956 - acc: 0.6927\n"
     ]
    },
    {
     "data": {
      "text/plain": [
       "<keras.callbacks.History at 0x2305171b0f0>"
      ]
     },
     "execution_count": 13,
     "metadata": {},
     "output_type": "execute_result"
    }
   ],
   "source": [
    "model.fit(X,y,epochs=10,batch_size=10,verbose=2)"
   ]
  },
  {
   "cell_type": "code",
   "execution_count": 14,
   "metadata": {},
   "outputs": [
    {
     "data": {
      "text/plain": [
       "<keras.callbacks.History at 0x23051cca0f0>"
      ]
     },
     "execution_count": 14,
     "metadata": {},
     "output_type": "execute_result"
    }
   ],
   "source": [
    "model = Sequential()\n",
    "model.add(Dense(12,input_dim=8,kernel_initializer = 'uniform', activation = 'relu'))\n",
    "model.add(Dense(8,kernel_initializer = 'uniform', activation = 'relu'))\n",
    "model.add(Dense(1,kernel_initializer = 'uniform', activation = 'sigmoid'))\n",
    "model.compile(loss='binary_crossentropy',optimizer='adam',metrics=['accuracy'])\n",
    "model.fit(X,y,epochs=40,batch_size=10,verbose=0)"
   ]
  },
  {
   "cell_type": "code",
   "execution_count": 15,
   "metadata": {},
   "outputs": [
    {
     "data": {
      "text/plain": [
       "['loss', 'acc']"
      ]
     },
     "execution_count": 15,
     "metadata": {},
     "output_type": "execute_result"
    }
   ],
   "source": [
    "model.metrics_names"
   ]
  },
  {
   "cell_type": "code",
   "execution_count": 16,
   "metadata": {},
   "outputs": [
    {
     "name": "stdout",
     "output_type": "stream",
     "text": [
      "768/768 [==============================] - 0s 106us/step\n"
     ]
    },
    {
     "data": {
      "text/plain": [
       "[0.5438874823351701, 0.7317708333333334]"
      ]
     },
     "execution_count": 16,
     "metadata": {},
     "output_type": "execute_result"
    }
   ],
   "source": [
    "model.evaluate(X,y)"
   ]
  },
  {
   "cell_type": "code",
   "execution_count": 17,
   "metadata": {},
   "outputs": [],
   "source": [
    "# 0.73 train accuracy rate"
   ]
  },
  {
   "cell_type": "markdown",
   "metadata": {},
   "source": [
    "## One-fold validation with keras"
   ]
  },
  {
   "cell_type": "code",
   "execution_count": 18,
   "metadata": {},
   "outputs": [],
   "source": [
    "# 33% test set"
   ]
  },
  {
   "cell_type": "code",
   "execution_count": 19,
   "metadata": {},
   "outputs": [
    {
     "name": "stdout",
     "output_type": "stream",
     "text": [
      "Train on 514 samples, validate on 254 samples\n",
      "Epoch 1/10\n",
      " - 0s - loss: 0.5573 - acc: 0.7218 - val_loss: 0.5186 - val_acc: 0.7598\n",
      "Epoch 2/10\n",
      " - 0s - loss: 0.5647 - acc: 0.7160 - val_loss: 0.5204 - val_acc: 0.7677\n",
      "Epoch 3/10\n",
      " - 0s - loss: 0.5477 - acc: 0.7276 - val_loss: 0.5227 - val_acc: 0.7283\n",
      "Epoch 4/10\n",
      " - 0s - loss: 0.5471 - acc: 0.7296 - val_loss: 0.5270 - val_acc: 0.7598\n",
      "Epoch 5/10\n",
      " - 0s - loss: 0.5371 - acc: 0.7393 - val_loss: 0.5233 - val_acc: 0.7441\n",
      "Epoch 6/10\n",
      " - 0s - loss: 0.5489 - acc: 0.7374 - val_loss: 0.5213 - val_acc: 0.7559\n",
      "Epoch 7/10\n",
      " - 0s - loss: 0.5391 - acc: 0.7432 - val_loss: 0.5196 - val_acc: 0.7520\n",
      "Epoch 8/10\n",
      " - 0s - loss: 0.5450 - acc: 0.7451 - val_loss: 0.5224 - val_acc: 0.7480\n",
      "Epoch 9/10\n",
      " - 0s - loss: 0.5340 - acc: 0.7510 - val_loss: 0.5494 - val_acc: 0.7402\n",
      "Epoch 10/10\n",
      " - 0s - loss: 0.5472 - acc: 0.7296 - val_loss: 0.5391 - val_acc: 0.7441\n"
     ]
    },
    {
     "data": {
      "text/plain": [
       "<keras.callbacks.History at 0x23051c7b518>"
      ]
     },
     "execution_count": 19,
     "metadata": {},
     "output_type": "execute_result"
    }
   ],
   "source": [
    "model.fit(X,y,validation_split=0.33,epochs=10,batch_size=10,verbose=2)"
   ]
  },
  {
   "cell_type": "code",
   "execution_count": 20,
   "metadata": {},
   "outputs": [],
   "source": [
    "# in silent mode"
   ]
  },
  {
   "cell_type": "code",
   "execution_count": 21,
   "metadata": {},
   "outputs": [],
   "source": [
    "results = model.fit(X,y,validation_split=0.33,epochs=10,batch_size=10,verbose=0)"
   ]
  },
  {
   "cell_type": "code",
   "execution_count": 22,
   "metadata": {},
   "outputs": [
    {
     "data": {
      "text/plain": [
       "{'val_loss': [0.5248291682539963,\n",
       "  0.5290925641228833,\n",
       "  0.5246118461991859,\n",
       "  0.5242841178037989,\n",
       "  0.521507803614684,\n",
       "  0.5250116704017158,\n",
       "  0.5200097420084195,\n",
       "  0.5197941154006898,\n",
       "  0.5307802222375795,\n",
       "  0.528329727687235],\n",
       " 'val_acc': [0.732283460342978,\n",
       "  0.7283464562235855,\n",
       "  0.7480314932470247,\n",
       "  0.7598425149917603,\n",
       "  0.7559055085257282,\n",
       "  0.7401574791416409,\n",
       "  0.7519685090996149,\n",
       "  0.7440944867809927,\n",
       "  0.7519685044063358,\n",
       "  0.724409447410914],\n",
       " 'loss': [0.5418847091351038,\n",
       "  0.5304504062415097,\n",
       "  0.5326562320907756,\n",
       "  0.5295605616578796,\n",
       "  0.5234419145704707,\n",
       "  0.522257192705392,\n",
       "  0.5262953455809953,\n",
       "  0.5256844845959184,\n",
       "  0.5398181841531152,\n",
       "  0.525286056536181],\n",
       " 'acc': [0.745136187466202,\n",
       "  0.752918285850421,\n",
       "  0.7315175099595511,\n",
       "  0.7431906644936201,\n",
       "  0.7529182880537055,\n",
       "  0.7412451335196365,\n",
       "  0.7392996141418873,\n",
       "  0.7509727599787804,\n",
       "  0.7412451343603635,\n",
       "  0.7529182903729524]}"
      ]
     },
     "execution_count": 22,
     "metadata": {},
     "output_type": "execute_result"
    }
   ],
   "source": [
    "results.history"
   ]
  },
  {
   "cell_type": "code",
   "execution_count": 23,
   "metadata": {},
   "outputs": [
    {
     "data": {
      "text/html": [
       "<div>\n",
       "<style scoped>\n",
       "    .dataframe tbody tr th:only-of-type {\n",
       "        vertical-align: middle;\n",
       "    }\n",
       "\n",
       "    .dataframe tbody tr th {\n",
       "        vertical-align: top;\n",
       "    }\n",
       "\n",
       "    .dataframe thead th {\n",
       "        text-align: right;\n",
       "    }\n",
       "</style>\n",
       "<table border=\"1\" class=\"dataframe\">\n",
       "  <thead>\n",
       "    <tr style=\"text-align: right;\">\n",
       "      <th></th>\n",
       "      <th>val_loss</th>\n",
       "      <th>val_acc</th>\n",
       "      <th>loss</th>\n",
       "      <th>acc</th>\n",
       "    </tr>\n",
       "  </thead>\n",
       "  <tbody>\n",
       "    <tr>\n",
       "      <th>0</th>\n",
       "      <td>0.524829</td>\n",
       "      <td>0.732283</td>\n",
       "      <td>0.541885</td>\n",
       "      <td>0.745136</td>\n",
       "    </tr>\n",
       "    <tr>\n",
       "      <th>1</th>\n",
       "      <td>0.529093</td>\n",
       "      <td>0.728346</td>\n",
       "      <td>0.530450</td>\n",
       "      <td>0.752918</td>\n",
       "    </tr>\n",
       "    <tr>\n",
       "      <th>2</th>\n",
       "      <td>0.524612</td>\n",
       "      <td>0.748031</td>\n",
       "      <td>0.532656</td>\n",
       "      <td>0.731518</td>\n",
       "    </tr>\n",
       "    <tr>\n",
       "      <th>3</th>\n",
       "      <td>0.524284</td>\n",
       "      <td>0.759843</td>\n",
       "      <td>0.529561</td>\n",
       "      <td>0.743191</td>\n",
       "    </tr>\n",
       "    <tr>\n",
       "      <th>4</th>\n",
       "      <td>0.521508</td>\n",
       "      <td>0.755906</td>\n",
       "      <td>0.523442</td>\n",
       "      <td>0.752918</td>\n",
       "    </tr>\n",
       "    <tr>\n",
       "      <th>5</th>\n",
       "      <td>0.525012</td>\n",
       "      <td>0.740157</td>\n",
       "      <td>0.522257</td>\n",
       "      <td>0.741245</td>\n",
       "    </tr>\n",
       "    <tr>\n",
       "      <th>6</th>\n",
       "      <td>0.520010</td>\n",
       "      <td>0.751969</td>\n",
       "      <td>0.526295</td>\n",
       "      <td>0.739300</td>\n",
       "    </tr>\n",
       "    <tr>\n",
       "      <th>7</th>\n",
       "      <td>0.519794</td>\n",
       "      <td>0.744094</td>\n",
       "      <td>0.525684</td>\n",
       "      <td>0.750973</td>\n",
       "    </tr>\n",
       "    <tr>\n",
       "      <th>8</th>\n",
       "      <td>0.530780</td>\n",
       "      <td>0.751969</td>\n",
       "      <td>0.539818</td>\n",
       "      <td>0.741245</td>\n",
       "    </tr>\n",
       "    <tr>\n",
       "      <th>9</th>\n",
       "      <td>0.528330</td>\n",
       "      <td>0.724409</td>\n",
       "      <td>0.525286</td>\n",
       "      <td>0.752918</td>\n",
       "    </tr>\n",
       "  </tbody>\n",
       "</table>\n",
       "</div>"
      ],
      "text/plain": [
       "   val_loss   val_acc      loss       acc\n",
       "0  0.524829  0.732283  0.541885  0.745136\n",
       "1  0.529093  0.728346  0.530450  0.752918\n",
       "2  0.524612  0.748031  0.532656  0.731518\n",
       "3  0.524284  0.759843  0.529561  0.743191\n",
       "4  0.521508  0.755906  0.523442  0.752918\n",
       "5  0.525012  0.740157  0.522257  0.741245\n",
       "6  0.520010  0.751969  0.526295  0.739300\n",
       "7  0.519794  0.744094  0.525684  0.750973\n",
       "8  0.530780  0.751969  0.539818  0.741245\n",
       "9  0.528330  0.724409  0.525286  0.752918"
      ]
     },
     "execution_count": 23,
     "metadata": {},
     "output_type": "execute_result"
    }
   ],
   "source": [
    "df2 = pd.DataFrame(results.history)\n",
    "df2"
   ]
  },
  {
   "cell_type": "code",
   "execution_count": 24,
   "metadata": {},
   "outputs": [],
   "source": [
    "# first two cols are cross validation scores"
   ]
  },
  {
   "cell_type": "code",
   "execution_count": 25,
   "metadata": {},
   "outputs": [],
   "source": [
    "# last two cols are training scores"
   ]
  },
  {
   "cell_type": "markdown",
   "metadata": {},
   "source": [
    "## One-fold cv with sklearn"
   ]
  },
  {
   "cell_type": "code",
   "execution_count": 26,
   "metadata": {},
   "outputs": [],
   "source": [
    "from sklearn.model_selection import train_test_split"
   ]
  },
  {
   "cell_type": "code",
   "execution_count": 27,
   "metadata": {},
   "outputs": [],
   "source": [
    "seed = 7"
   ]
  },
  {
   "cell_type": "code",
   "execution_count": 28,
   "metadata": {},
   "outputs": [],
   "source": [
    "X_train,X_test,y_train,y_test = train_test_split(X,y,test_size=0.33,\n",
    "                                                random_state=seed)"
   ]
  },
  {
   "cell_type": "code",
   "execution_count": 29,
   "metadata": {},
   "outputs": [
    {
     "name": "stdout",
     "output_type": "stream",
     "text": [
      "Train on 768 samples, validate on 254 samples\n",
      "Epoch 1/10\n",
      " - 0s - loss: 0.5187 - acc: 0.7487 - val_loss: 0.5316 - val_acc: 0.7520\n",
      "Epoch 2/10\n",
      " - 0s - loss: 0.5249 - acc: 0.7279 - val_loss: 0.5218 - val_acc: 0.7323\n",
      "Epoch 3/10\n",
      " - 0s - loss: 0.5163 - acc: 0.7487 - val_loss: 0.5219 - val_acc: 0.7520\n",
      "Epoch 4/10\n",
      " - 0s - loss: 0.5203 - acc: 0.7526 - val_loss: 0.5473 - val_acc: 0.7480\n",
      "Epoch 5/10\n",
      " - 0s - loss: 0.5193 - acc: 0.7630 - val_loss: 0.5192 - val_acc: 0.7559\n",
      "Epoch 6/10\n",
      " - 0s - loss: 0.5155 - acc: 0.7526 - val_loss: 0.5113 - val_acc: 0.7638\n",
      "Epoch 7/10\n",
      " - 0s - loss: 0.5208 - acc: 0.7539 - val_loss: 0.5133 - val_acc: 0.7559\n",
      "Epoch 8/10\n",
      " - 0s - loss: 0.5149 - acc: 0.7591 - val_loss: 0.5166 - val_acc: 0.7717\n",
      "Epoch 9/10\n",
      " - 0s - loss: 0.5151 - acc: 0.7591 - val_loss: 0.5134 - val_acc: 0.7520\n",
      "Epoch 10/10\n",
      " - 0s - loss: 0.5076 - acc: 0.7747 - val_loss: 0.5066 - val_acc: 0.7402\n"
     ]
    },
    {
     "data": {
      "text/plain": [
       "<keras.callbacks.History at 0x230549194e0>"
      ]
     },
     "execution_count": 29,
     "metadata": {},
     "output_type": "execute_result"
    }
   ],
   "source": [
    "model.fit(X,y,validation_data=(X_test,y_test),epochs=10,batch_size=10,verbose=2)"
   ]
  },
  {
   "cell_type": "markdown",
   "metadata": {},
   "source": [
    "## Manual k-fold cv"
   ]
  },
  {
   "cell_type": "code",
   "execution_count": 30,
   "metadata": {},
   "outputs": [],
   "source": [
    "from sklearn.model_selection import StratifiedKFold"
   ]
  },
  {
   "cell_type": "code",
   "execution_count": 31,
   "metadata": {},
   "outputs": [],
   "source": [
    "kfold = StratifiedKFold(n_splits = 10, shuffle = True, random_state=seed)"
   ]
  },
  {
   "cell_type": "code",
   "execution_count": 34,
   "metadata": {},
   "outputs": [],
   "source": [
    "cvscores = []"
   ]
  },
  {
   "cell_type": "code",
   "execution_count": 35,
   "metadata": {},
   "outputs": [
    {
     "name": "stdout",
     "output_type": "stream",
     "text": [
      "76.62337701041977 76.62337701041977\n",
      "79.22077922077922 77.9220781155995\n",
      "80.51948059688915 78.78787894269605\n",
      "84.41558449299305 80.1948053302703\n",
      "83.11688319429174 80.77922090307459\n",
      "80.51948075170641 80.73593087784656\n",
      "71.42857166079732 79.4063081325538\n",
      "76.62337701041977 79.05844174228704\n",
      "78.9473687347613 79.0461002970064\n",
      "80.26315820844549 79.16780608815031\n"
     ]
    }
   ],
   "source": [
    "for train, test in kfold.split(X,y):\n",
    "    model.fit(X[train],y[train],epochs = 10, batch_size=10,verbose=0)\n",
    "    scores = model.evaluate(X[test],y[test],verbose=0)\n",
    "    cvscores.append(100*scores[1])\n",
    "    print(100*scores[1],np.mean(cvscores))"
   ]
  },
  {
   "cell_type": "code",
   "execution_count": null,
   "metadata": {},
   "outputs": [],
   "source": []
  }
 ],
 "metadata": {
  "kernelspec": {
   "display_name": "Python 3",
   "language": "python",
   "name": "python3"
  },
  "language_info": {
   "codemirror_mode": {
    "name": "ipython",
    "version": 3
   },
   "file_extension": ".py",
   "mimetype": "text/x-python",
   "name": "python",
   "nbconvert_exporter": "python",
   "pygments_lexer": "ipython3",
   "version": "3.7.3"
  }
 },
 "nbformat": 4,
 "nbformat_minor": 2
}
