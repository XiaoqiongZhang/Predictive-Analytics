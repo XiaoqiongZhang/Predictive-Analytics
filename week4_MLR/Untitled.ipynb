{
 "cells": [
  {
   "cell_type": "code",
   "execution_count": 1,
   "metadata": {},
   "outputs": [],
   "source": [
    "import numpy as np\n",
    "import pandas as pd\n",
    "import matplotlib.pyplot as plt"
   ]
  },
  {
   "cell_type": "code",
   "execution_count": 2,
   "metadata": {},
   "outputs": [],
   "source": [
    "df = pd.read_csv('Cars93.csv')"
   ]
  },
  {
   "cell_type": "code",
   "execution_count": 3,
   "metadata": {},
   "outputs": [],
   "source": [
    "# select variables"
   ]
  },
  {
   "cell_type": "code",
   "execution_count": 4,
   "metadata": {},
   "outputs": [
    {
     "data": {
      "text/html": [
       "<div>\n",
       "<style scoped>\n",
       "    .dataframe tbody tr th:only-of-type {\n",
       "        vertical-align: middle;\n",
       "    }\n",
       "\n",
       "    .dataframe tbody tr th {\n",
       "        vertical-align: top;\n",
       "    }\n",
       "\n",
       "    .dataframe thead th {\n",
       "        text-align: right;\n",
       "    }\n",
       "</style>\n",
       "<table border=\"1\" class=\"dataframe\">\n",
       "  <thead>\n",
       "    <tr style=\"text-align: right;\">\n",
       "      <th></th>\n",
       "      <th>MPG.city</th>\n",
       "      <th>Cylinders</th>\n",
       "      <th>EngineSize</th>\n",
       "      <th>Horsepower</th>\n",
       "      <th>RPM</th>\n",
       "      <th>Passengers</th>\n",
       "      <th>Weight</th>\n",
       "    </tr>\n",
       "  </thead>\n",
       "  <tbody>\n",
       "    <tr>\n",
       "      <th>0</th>\n",
       "      <td>25</td>\n",
       "      <td>4</td>\n",
       "      <td>1.8</td>\n",
       "      <td>140</td>\n",
       "      <td>6300</td>\n",
       "      <td>5</td>\n",
       "      <td>2705</td>\n",
       "    </tr>\n",
       "    <tr>\n",
       "      <th>1</th>\n",
       "      <td>18</td>\n",
       "      <td>6</td>\n",
       "      <td>3.2</td>\n",
       "      <td>200</td>\n",
       "      <td>5500</td>\n",
       "      <td>5</td>\n",
       "      <td>3560</td>\n",
       "    </tr>\n",
       "    <tr>\n",
       "      <th>2</th>\n",
       "      <td>20</td>\n",
       "      <td>6</td>\n",
       "      <td>2.8</td>\n",
       "      <td>172</td>\n",
       "      <td>5500</td>\n",
       "      <td>5</td>\n",
       "      <td>3375</td>\n",
       "    </tr>\n",
       "    <tr>\n",
       "      <th>3</th>\n",
       "      <td>19</td>\n",
       "      <td>6</td>\n",
       "      <td>2.8</td>\n",
       "      <td>172</td>\n",
       "      <td>5500</td>\n",
       "      <td>6</td>\n",
       "      <td>3405</td>\n",
       "    </tr>\n",
       "    <tr>\n",
       "      <th>4</th>\n",
       "      <td>22</td>\n",
       "      <td>4</td>\n",
       "      <td>3.5</td>\n",
       "      <td>208</td>\n",
       "      <td>5700</td>\n",
       "      <td>4</td>\n",
       "      <td>3640</td>\n",
       "    </tr>\n",
       "  </tbody>\n",
       "</table>\n",
       "</div>"
      ],
      "text/plain": [
       "   MPG.city Cylinders  EngineSize  Horsepower   RPM  Passengers  Weight\n",
       "0        25         4         1.8         140  6300           5    2705\n",
       "1        18         6         3.2         200  5500           5    3560\n",
       "2        20         6         2.8         172  5500           5    3375\n",
       "3        19         6         2.8         172  5500           6    3405\n",
       "4        22         4         3.5         208  5700           4    3640"
      ]
     },
     "execution_count": 4,
     "metadata": {},
     "output_type": "execute_result"
    }
   ],
   "source": [
    "df1 = df[['MPG.city','Cylinders','EngineSize','Horsepower','RPM','Passengers','Weight']]\n",
    "df1[:5]"
   ]
  },
  {
   "cell_type": "code",
   "execution_count": 5,
   "metadata": {},
   "outputs": [
    {
     "name": "stdout",
     "output_type": "stream",
     "text": [
      "<class 'pandas.core.frame.DataFrame'>\n",
      "RangeIndex: 93 entries, 0 to 92\n",
      "Data columns (total 7 columns):\n",
      "MPG.city      93 non-null int64\n",
      "Cylinders     93 non-null object\n",
      "EngineSize    93 non-null float64\n",
      "Horsepower    93 non-null int64\n",
      "RPM           93 non-null int64\n",
      "Passengers    93 non-null int64\n",
      "Weight        93 non-null int64\n",
      "dtypes: float64(1), int64(5), object(1)\n",
      "memory usage: 5.2+ KB\n"
     ]
    }
   ],
   "source": [
    "df1.info()"
   ]
  },
  {
   "cell_type": "code",
   "execution_count": 6,
   "metadata": {},
   "outputs": [],
   "source": [
    "# Cylinders is not numeric"
   ]
  },
  {
   "cell_type": "code",
   "execution_count": 7,
   "metadata": {},
   "outputs": [
    {
     "data": {
      "text/plain": [
       "array(['4', '6', '8', '3', 'rotary', '5'], dtype=object)"
      ]
     },
     "execution_count": 7,
     "metadata": {},
     "output_type": "execute_result"
    }
   ],
   "source": [
    "df1.Cylinders.unique()"
   ]
  },
  {
   "cell_type": "code",
   "execution_count": 8,
   "metadata": {},
   "outputs": [
    {
     "data": {
      "text/plain": [
       "4         49\n",
       "6         31\n",
       "8          7\n",
       "3          3\n",
       "5          2\n",
       "rotary     1\n",
       "Name: Cylinders, dtype: int64"
      ]
     },
     "execution_count": 8,
     "metadata": {},
     "output_type": "execute_result"
    }
   ],
   "source": [
    "pd.value_counts(df1.Cylinders)"
   ]
  },
  {
   "cell_type": "code",
   "execution_count": 9,
   "metadata": {},
   "outputs": [
    {
     "data": {
      "text/html": [
       "<div>\n",
       "<style scoped>\n",
       "    .dataframe tbody tr th:only-of-type {\n",
       "        vertical-align: middle;\n",
       "    }\n",
       "\n",
       "    .dataframe tbody tr th {\n",
       "        vertical-align: top;\n",
       "    }\n",
       "\n",
       "    .dataframe thead th {\n",
       "        text-align: right;\n",
       "    }\n",
       "</style>\n",
       "<table border=\"1\" class=\"dataframe\">\n",
       "  <thead>\n",
       "    <tr style=\"text-align: right;\">\n",
       "      <th></th>\n",
       "      <th>Manufacturer</th>\n",
       "      <th>Model</th>\n",
       "      <th>Type</th>\n",
       "      <th>Min.Price</th>\n",
       "      <th>Price</th>\n",
       "      <th>Max.Price</th>\n",
       "      <th>MPG.city</th>\n",
       "      <th>MPG.highway</th>\n",
       "      <th>AirBags</th>\n",
       "      <th>DriveTrain</th>\n",
       "      <th>...</th>\n",
       "      <th>Passengers</th>\n",
       "      <th>Length</th>\n",
       "      <th>Wheelbase</th>\n",
       "      <th>Width</th>\n",
       "      <th>Turn.circle</th>\n",
       "      <th>Rear.seat.room</th>\n",
       "      <th>Luggage.room</th>\n",
       "      <th>Weight</th>\n",
       "      <th>Origin</th>\n",
       "      <th>Make</th>\n",
       "    </tr>\n",
       "  </thead>\n",
       "  <tbody>\n",
       "    <tr>\n",
       "      <th>56</th>\n",
       "      <td>Mazda</td>\n",
       "      <td>RX-7</td>\n",
       "      <td>Sporty</td>\n",
       "      <td>32.5</td>\n",
       "      <td>32.5</td>\n",
       "      <td>32.5</td>\n",
       "      <td>17</td>\n",
       "      <td>25</td>\n",
       "      <td>Driver only</td>\n",
       "      <td>Rear</td>\n",
       "      <td>...</td>\n",
       "      <td>2</td>\n",
       "      <td>169</td>\n",
       "      <td>96</td>\n",
       "      <td>69</td>\n",
       "      <td>37</td>\n",
       "      <td>NaN</td>\n",
       "      <td>NaN</td>\n",
       "      <td>2895</td>\n",
       "      <td>non-USA</td>\n",
       "      <td>Mazda RX-7</td>\n",
       "    </tr>\n",
       "  </tbody>\n",
       "</table>\n",
       "<p>1 rows × 27 columns</p>\n",
       "</div>"
      ],
      "text/plain": [
       "   Manufacturer Model    Type  Min.Price  Price  Max.Price  MPG.city  \\\n",
       "56        Mazda  RX-7  Sporty       32.5   32.5       32.5        17   \n",
       "\n",
       "    MPG.highway      AirBags DriveTrain  ... Passengers  Length  Wheelbase  \\\n",
       "56           25  Driver only       Rear  ...          2     169         96   \n",
       "\n",
       "    Width  Turn.circle Rear.seat.room  Luggage.room  Weight   Origin  \\\n",
       "56     69           37            NaN           NaN    2895  non-USA   \n",
       "\n",
       "          Make  \n",
       "56  Mazda RX-7  \n",
       "\n",
       "[1 rows x 27 columns]"
      ]
     },
     "execution_count": 9,
     "metadata": {},
     "output_type": "execute_result"
    }
   ],
   "source": [
    "df[df.Cylinders == 'rotary']"
   ]
  },
  {
   "cell_type": "code",
   "execution_count": 10,
   "metadata": {},
   "outputs": [],
   "source": [
    "# remove Mazda RX-7"
   ]
  },
  {
   "cell_type": "code",
   "execution_count": 11,
   "metadata": {},
   "outputs": [],
   "source": [
    "df2 = df1.copy()"
   ]
  },
  {
   "cell_type": "code",
   "execution_count": 12,
   "metadata": {},
   "outputs": [],
   "source": [
    "df3 = df2.drop(df2.index[56])"
   ]
  },
  {
   "cell_type": "code",
   "execution_count": 13,
   "metadata": {},
   "outputs": [
    {
     "data": {
      "text/html": [
       "<div>\n",
       "<style scoped>\n",
       "    .dataframe tbody tr th:only-of-type {\n",
       "        vertical-align: middle;\n",
       "    }\n",
       "\n",
       "    .dataframe tbody tr th {\n",
       "        vertical-align: top;\n",
       "    }\n",
       "\n",
       "    .dataframe thead th {\n",
       "        text-align: right;\n",
       "    }\n",
       "</style>\n",
       "<table border=\"1\" class=\"dataframe\">\n",
       "  <thead>\n",
       "    <tr style=\"text-align: right;\">\n",
       "      <th></th>\n",
       "      <th>MPG.city</th>\n",
       "      <th>Cylinders</th>\n",
       "      <th>EngineSize</th>\n",
       "      <th>Horsepower</th>\n",
       "      <th>RPM</th>\n",
       "      <th>Passengers</th>\n",
       "      <th>Weight</th>\n",
       "    </tr>\n",
       "  </thead>\n",
       "  <tbody>\n",
       "    <tr>\n",
       "      <th>52</th>\n",
       "      <td>29</td>\n",
       "      <td>4</td>\n",
       "      <td>1.6</td>\n",
       "      <td>82</td>\n",
       "      <td>5000</td>\n",
       "      <td>4</td>\n",
       "      <td>2325</td>\n",
       "    </tr>\n",
       "    <tr>\n",
       "      <th>53</th>\n",
       "      <td>28</td>\n",
       "      <td>4</td>\n",
       "      <td>1.8</td>\n",
       "      <td>103</td>\n",
       "      <td>5500</td>\n",
       "      <td>5</td>\n",
       "      <td>2440</td>\n",
       "    </tr>\n",
       "    <tr>\n",
       "      <th>54</th>\n",
       "      <td>26</td>\n",
       "      <td>4</td>\n",
       "      <td>2.5</td>\n",
       "      <td>164</td>\n",
       "      <td>5600</td>\n",
       "      <td>5</td>\n",
       "      <td>2970</td>\n",
       "    </tr>\n",
       "    <tr>\n",
       "      <th>55</th>\n",
       "      <td>18</td>\n",
       "      <td>6</td>\n",
       "      <td>3.0</td>\n",
       "      <td>155</td>\n",
       "      <td>5000</td>\n",
       "      <td>7</td>\n",
       "      <td>3735</td>\n",
       "    </tr>\n",
       "    <tr>\n",
       "      <th>57</th>\n",
       "      <td>20</td>\n",
       "      <td>4</td>\n",
       "      <td>2.3</td>\n",
       "      <td>130</td>\n",
       "      <td>5100</td>\n",
       "      <td>5</td>\n",
       "      <td>2920</td>\n",
       "    </tr>\n",
       "    <tr>\n",
       "      <th>58</th>\n",
       "      <td>19</td>\n",
       "      <td>6</td>\n",
       "      <td>3.2</td>\n",
       "      <td>217</td>\n",
       "      <td>5500</td>\n",
       "      <td>5</td>\n",
       "      <td>3525</td>\n",
       "    </tr>\n",
       "  </tbody>\n",
       "</table>\n",
       "</div>"
      ],
      "text/plain": [
       "    MPG.city Cylinders  EngineSize  Horsepower   RPM  Passengers  Weight\n",
       "52        29         4         1.6          82  5000           4    2325\n",
       "53        28         4         1.8         103  5500           5    2440\n",
       "54        26         4         2.5         164  5600           5    2970\n",
       "55        18         6         3.0         155  5000           7    3735\n",
       "57        20         4         2.3         130  5100           5    2920\n",
       "58        19         6         3.2         217  5500           5    3525"
      ]
     },
     "execution_count": 13,
     "metadata": {},
     "output_type": "execute_result"
    }
   ],
   "source": [
    "df3.iloc[52:58,]"
   ]
  },
  {
   "cell_type": "code",
   "execution_count": 14,
   "metadata": {},
   "outputs": [
    {
     "name": "stdout",
     "output_type": "stream",
     "text": [
      "<class 'pandas.core.frame.DataFrame'>\n",
      "Int64Index: 92 entries, 0 to 92\n",
      "Data columns (total 7 columns):\n",
      "MPG.city      92 non-null int64\n",
      "Cylinders     92 non-null object\n",
      "EngineSize    92 non-null float64\n",
      "Horsepower    92 non-null int64\n",
      "RPM           92 non-null int64\n",
      "Passengers    92 non-null int64\n",
      "Weight        92 non-null int64\n",
      "dtypes: float64(1), int64(5), object(1)\n",
      "memory usage: 5.8+ KB\n"
     ]
    }
   ],
   "source": [
    "df3.info()"
   ]
  },
  {
   "cell_type": "code",
   "execution_count": 15,
   "metadata": {},
   "outputs": [],
   "source": [
    "# change Cylinders to numeric"
   ]
  },
  {
   "cell_type": "code",
   "execution_count": 16,
   "metadata": {},
   "outputs": [],
   "source": [
    "df3.Cylinders = df3.Cylinders.astype('int64')"
   ]
  },
  {
   "cell_type": "code",
   "execution_count": 17,
   "metadata": {},
   "outputs": [
    {
     "name": "stdout",
     "output_type": "stream",
     "text": [
      "<class 'pandas.core.frame.DataFrame'>\n",
      "Int64Index: 92 entries, 0 to 92\n",
      "Data columns (total 7 columns):\n",
      "MPG.city      92 non-null int64\n",
      "Cylinders     92 non-null int64\n",
      "EngineSize    92 non-null float64\n",
      "Horsepower    92 non-null int64\n",
      "RPM           92 non-null int64\n",
      "Passengers    92 non-null int64\n",
      "Weight        92 non-null int64\n",
      "dtypes: float64(1), int64(6)\n",
      "memory usage: 5.8 KB\n"
     ]
    }
   ],
   "source": [
    "df3.info()"
   ]
  },
  {
   "cell_type": "code",
   "execution_count": 18,
   "metadata": {},
   "outputs": [],
   "source": [
    "# correlations"
   ]
  },
  {
   "cell_type": "code",
   "execution_count": 19,
   "metadata": {},
   "outputs": [
    {
     "data": {
      "text/html": [
       "<div>\n",
       "<style scoped>\n",
       "    .dataframe tbody tr th:only-of-type {\n",
       "        vertical-align: middle;\n",
       "    }\n",
       "\n",
       "    .dataframe tbody tr th {\n",
       "        vertical-align: top;\n",
       "    }\n",
       "\n",
       "    .dataframe thead th {\n",
       "        text-align: right;\n",
       "    }\n",
       "</style>\n",
       "<table border=\"1\" class=\"dataframe\">\n",
       "  <thead>\n",
       "    <tr style=\"text-align: right;\">\n",
       "      <th></th>\n",
       "      <th>MPG.city</th>\n",
       "      <th>Cylinders</th>\n",
       "      <th>EngineSize</th>\n",
       "      <th>Horsepower</th>\n",
       "      <th>RPM</th>\n",
       "      <th>Passengers</th>\n",
       "      <th>Weight</th>\n",
       "    </tr>\n",
       "  </thead>\n",
       "  <tbody>\n",
       "    <tr>\n",
       "      <th>MPG.city</th>\n",
       "      <td>1.000000</td>\n",
       "      <td>-0.687222</td>\n",
       "      <td>-0.734536</td>\n",
       "      <td>-0.670457</td>\n",
       "      <td>0.395603</td>\n",
       "      <td>-0.473828</td>\n",
       "      <td>-0.850998</td>\n",
       "    </tr>\n",
       "    <tr>\n",
       "      <th>Cylinders</th>\n",
       "      <td>-0.687222</td>\n",
       "      <td>1.000000</td>\n",
       "      <td>0.890732</td>\n",
       "      <td>0.794648</td>\n",
       "      <td>-0.396617</td>\n",
       "      <td>0.308475</td>\n",
       "      <td>0.794336</td>\n",
       "    </tr>\n",
       "    <tr>\n",
       "      <th>EngineSize</th>\n",
       "      <td>-0.734536</td>\n",
       "      <td>0.890732</td>\n",
       "      <td>1.000000</td>\n",
       "      <td>0.790067</td>\n",
       "      <td>-0.535751</td>\n",
       "      <td>0.350297</td>\n",
       "      <td>0.849277</td>\n",
       "    </tr>\n",
       "    <tr>\n",
       "      <th>Horsepower</th>\n",
       "      <td>-0.670457</td>\n",
       "      <td>0.794648</td>\n",
       "      <td>0.790067</td>\n",
       "      <td>1.000000</td>\n",
       "      <td>-0.011519</td>\n",
       "      <td>0.084771</td>\n",
       "      <td>0.765391</td>\n",
       "    </tr>\n",
       "    <tr>\n",
       "      <th>RPM</th>\n",
       "      <td>0.395603</td>\n",
       "      <td>-0.396617</td>\n",
       "      <td>-0.535751</td>\n",
       "      <td>-0.011519</td>\n",
       "      <td>1.000000</td>\n",
       "      <td>-0.431406</td>\n",
       "      <td>-0.431383</td>\n",
       "    </tr>\n",
       "    <tr>\n",
       "      <th>Passengers</th>\n",
       "      <td>-0.473828</td>\n",
       "      <td>0.308475</td>\n",
       "      <td>0.350297</td>\n",
       "      <td>0.084771</td>\n",
       "      <td>-0.431406</td>\n",
       "      <td>1.000000</td>\n",
       "      <td>0.572140</td>\n",
       "    </tr>\n",
       "    <tr>\n",
       "      <th>Weight</th>\n",
       "      <td>-0.850998</td>\n",
       "      <td>0.794336</td>\n",
       "      <td>0.849277</td>\n",
       "      <td>0.765391</td>\n",
       "      <td>-0.431383</td>\n",
       "      <td>0.572140</td>\n",
       "      <td>1.000000</td>\n",
       "    </tr>\n",
       "  </tbody>\n",
       "</table>\n",
       "</div>"
      ],
      "text/plain": [
       "            MPG.city  Cylinders  EngineSize  Horsepower       RPM  Passengers  \\\n",
       "MPG.city    1.000000  -0.687222   -0.734536   -0.670457  0.395603   -0.473828   \n",
       "Cylinders  -0.687222   1.000000    0.890732    0.794648 -0.396617    0.308475   \n",
       "EngineSize -0.734536   0.890732    1.000000    0.790067 -0.535751    0.350297   \n",
       "Horsepower -0.670457   0.794648    0.790067    1.000000 -0.011519    0.084771   \n",
       "RPM         0.395603  -0.396617   -0.535751   -0.011519  1.000000   -0.431406   \n",
       "Passengers -0.473828   0.308475    0.350297    0.084771 -0.431406    1.000000   \n",
       "Weight     -0.850998   0.794336    0.849277    0.765391 -0.431383    0.572140   \n",
       "\n",
       "              Weight  \n",
       "MPG.city   -0.850998  \n",
       "Cylinders   0.794336  \n",
       "EngineSize  0.849277  \n",
       "Horsepower  0.765391  \n",
       "RPM        -0.431383  \n",
       "Passengers  0.572140  \n",
       "Weight      1.000000  "
      ]
     },
     "execution_count": 19,
     "metadata": {},
     "output_type": "execute_result"
    }
   ],
   "source": [
    "df3.corr()"
   ]
  },
  {
   "cell_type": "code",
   "execution_count": null,
   "metadata": {},
   "outputs": [],
   "source": []
  }
 ],
 "metadata": {
  "kernelspec": {
   "display_name": "Python 3",
   "language": "python",
   "name": "python3"
  },
  "language_info": {
   "codemirror_mode": {
    "name": "ipython",
    "version": 3
   },
   "file_extension": ".py",
   "mimetype": "text/x-python",
   "name": "python",
   "nbconvert_exporter": "python",
   "pygments_lexer": "ipython3",
   "version": "3.7.3"
  }
 },
 "nbformat": 4,
 "nbformat_minor": 2
}
